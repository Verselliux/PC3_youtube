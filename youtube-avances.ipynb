{
 "cells": [
  {
   "cell_type": "markdown",
   "id": "979dd9cd",
   "metadata": {},
   "source": [
    "# API Youtube #\n",
    "La API de YouTube es una interfaz de programación de aplicaciones proporcionada por YouTube que permite a los desarrolladores acceder y manipular datos relacionados con vídeos, canales, listas de reproducción, comentarios y más. A través de la API de YouTube, los desarrolladores pueden crear aplicaciones que interactúen con la plataforma de YouTube, como crear, subir y gestionar vídeos, obtener información sobre canales y listas de reproducción, realizar búsquedas de vídeos y comentarios, obtener estadísticas y mucho más.\n",
    "\n",
    "La API de YouTube es como un conjunto de herramientas que YouTube proporciona a los desarrolladores para que puedan crear aplicaciones que interactúen con YouTube. Estas aplicaciones pueden hacer cosas como subir y gestionar vídeos, buscar vídeos y comentarios, obtener información sobre canales y listas de reproducción, y ver estadísticas, entre otras cosas. Básicamente, la API de YouTube permite a los desarrolladores acceder y trabajar con datos de YouTube en sus propias aplicaciones.\n",
    "\n",
    "\n",
    "![Api de youtube](https://developers.google.com/static/youtube/images/youtube_home_page_data_api_856.png?hl=es-419)\n",
    "\n",
    "\n",
    "\n"
   ]
  },
  {
   "cell_type": "markdown",
   "id": "a41894cb",
   "metadata": {},
   "source": [
    "## Justificación ##\n",
    "El uso del API de YouTube tiene varias ventajas sobre el web scraping:\n",
    "\n",
    "<font color=\"red\">*Acceso estructurado a los datos:*</font> El API de YouTube proporciona una estructura bien definida para acceder a los datos de YouTube. Puedes realizar consultas específicas y recibir los resultados en un formato estructurado, como JSON, lo que facilita su manipulación y análisis.\n",
    "\n",
    "<font color=\"red\">*Cumplimiento de los términos de servicio:*</font> Al utilizar el API de YouTube, estás siguiendo los términos de servicio establecidos por YouTube y Google. Esto garantiza que estás utilizando los datos de YouTube de acuerdo con las reglas y restricciones establecidas por la plataforma.\n",
    "\n",
    "<font color=\"red\">*Actualizaciones y mantenimiento:*</font> El API de YouTube es administrado y actualizado por el equipo de desarrollo de YouTube. Esto significa que si hay cambios en la plataforma, es más probable que el API se actualice para reflejar esos cambios, lo que te permite mantener tu aplicación sincronizada con las últimas funcionalidades de YouTube.\n",
    "\n",
    "<font color=\"red\">*Rendimiento y eficiencia:*</font> El API de YouTube está diseñado para manejar grandes volúmenes de solicitudes y ofrecer respuestas rápidas y eficientes. Esto garantiza un mejor rendimiento y evita la sobrecarga de los servidores de YouTube."
   ]
  },
  {
   "cell_type": "markdown",
   "id": "2a42d012",
   "metadata": {},
   "source": [
    "## Objetivos ##\n",
    "Obtener data de las estadísticas de un video o grupo de videos\n",
    "\n"
   ]
  },
  {
   "cell_type": "markdown",
   "id": "f47323ea",
   "metadata": {},
   "source": [
    "## Limitaciones  ##\n",
    "Mostramos las limitaciones al usar el API de youtube, a traves de la siguiente tabla, obtenida del trabajo  [\"Plataforma para   Análisis de Mercado a través de Datos de Redes Sociales\"](http://rte.espol.edu.ec/index.php/tecnologica/article/view/839/535) en la que se puede apreciar, que la accesibilidad a los datos de youtube, mediante su API es 10 de 30 puntos posibles.\n"
   ]
  },
  {
   "cell_type": "markdown",
   "id": "f91d2284",
   "metadata": {},
   "source": [
    "![Texto alternativo](apiTabla.png)\n",
    " Tabla1: Cálculo del Score de la Calidad/Relevancia de las Fuentes de Información"
   ]
  },
  {
   "cell_type": "markdown",
   "id": "eb2b5db2",
   "metadata": {},
   "source": [
    "A pesar de que el puntaje obtenido no es tan alentador, es mayor que sus competidores además que en este trabajo se podrán apreciar que los datos obtenidos a partir de esta API, pueden considerarse importantes."
   ]
  },
  {
   "cell_type": "markdown",
   "id": "6ec9f0bd",
   "metadata": {},
   "source": [
    "Además de lo mostrado, y para entender porque se obtuvo ese puntaje, debemos considerar las siguiente limitaciones y políticas impuestas por Youtube: \n",
    "\n",
    "<font color=\"red\">*Cuotas de uso:*</font> YouTube establece límites en la cantidad de solicitudes que se pueden realizar al API en un período de tiempo determinado. Estas cuotas pueden variar según el tipo de solicitud y el tipo de cuenta utilizada. Si se supera la cuota asignada, es posible que debas esperar hasta que se restablezca para realizar más solicitudes.\n",
    "\n",
    "<font color=\"red\">*Restricciones de contenido:*</font> YouTube tiene políticas estrictas en cuanto a la obtención y el uso de datos de contenido. Algunos tipos de contenido pueden estar restringidos o no ser accesibles a través del API, como contenido protegido por derechos de autor o contenido que viole las políticas de YouTube. Además que no se tiene acceso a los videos privados.\n",
    "\n",
    "<font color=\"red\">*Autenticación y autorización:*</font> Para acceder al API de YouTube, debes autenticarte y obtener las credenciales adecuadas. Esto implica seguir un proceso de autorización y asegurarte de cumplir con las políticas de uso de YouTube en cuanto a la privacidad y seguridad de los datos de los usuarios.\n",
    "\n",
    "<font color=\"red\">*Cambios en el API:*</font> YouTube puede realizar cambios en su API, lo que puede implicar la adición, eliminación o modificación de funciones. Es importante mantenerse actualizado con las actualizaciones y cambios realizados por YouTube para garantizar la compatibilidad continua con tu aplicación o proyecto."
   ]
  },
  {
   "cell_type": "markdown",
   "id": "e7df8266",
   "metadata": {},
   "source": [
    "## Pasos para obtener el APi Key de Youtube ##\n",
    "\n"
   ]
  },
  {
   "cell_type": "markdown",
   "id": "a6342f06",
   "metadata": {},
   "source": [
    "A continuación se mostrarán los pasos para obtener el API Key de Youtube:\n",
    "\n",
    "### 1. Primero debemos ingresar a la siguiente página [\"cloud google\"](https://cloud.google.com/?utm_source=google&utm_medium=cpc&utm_campaign=latam-PE-all-es-dr-BKWS-all-all-trial-e-dr-1605194-LUAC0010196&utm_content=text-ad-none-any-DEV_c-CRE_512364917036-ADGP_Hybrid%20%7C%20BKWS%20-%20EXA%20%7C%20Txt%20~%20GCP_General-KWID_43700062784667371-kwd-301173107424&utm_term=KW_google%20cloud-ST_Google%20Cloud&gclid=CjwKCAjws7WkBhBFEiwAIi1681FHUhtnumLa5grlN1RI9QNmEWWIV5blX1kw3PWLlhIwzxcjyZCBKhoCNYsQAvD_BwE&gclsrc=aw.ds&hl=es)\n",
    "![Texto alternativo](t1.png)\n",
    "\n",
    "Luego se debe loguear con cualquier cuenta de correo electrónico.\n",
    "\n",
    "\n"
   ]
  },
  {
   "cell_type": "markdown",
   "id": "0e80477d",
   "metadata": {},
   "source": [
    "### 2. Se debe generar un nuevo proyecto.\n",
    "![Texto alternativo](t2.png)\n",
    "\n",
    "\n",
    "### 3. Se le asigna un nombre al proyecto, y se da crear.\n",
    "![Texto alternativo](t4.png)\n",
    "\n",
    "### 4. Se muestra que el proyecto a sido creado.\n",
    "![Texto alternativo](t5.png)\n",
    "\n",
    "### 5. Le damos click a Biblioteca.\n",
    "![Texto alternativo](t6.png)\n",
    "\n",
    "### 6. Se debe buscar youtube y darle click.\n",
    "![Texto alternativo](t7.png)\n",
    "\n",
    "### 7. Se escoge YouTube Data API V3.\n",
    "![Texto alternativo](t8.png)\n",
    "\n",
    "### 8. Se da habilitar.\n",
    "![Texto alternativo](t9.png)\n",
    "\n",
    "### 9. YouTube Data API, es parte de nuestro proyecto.\n",
    "![Texto alternativo](t10.png)\n",
    "\n",
    "### 10. Ahora le damos click a crear credenciales.\n",
    "![Texto alternativo](t11.png)\n",
    "\n",
    "### 11. Le damos click a Datos públicos y le damos siguiente.\n",
    "![Texto alternativo](t12.png)\n",
    "\n",
    "\n",
    "### 12. Se mostrará la clave API Key, luego le damos listo.\n",
    "![Texto alternativo](t14.png)\n",
    "\n",
    "### 13. Finalmente, disponemos del proyecto, y la clave API Key respectiva de YouTube DATA API.\n",
    "![Texto alternativo](t15.png)"
   ]
  },
  {
   "cell_type": "code",
   "execution_count": null,
   "id": "481b83cf",
   "metadata": {},
   "outputs": [],
   "source": []
  }
 ],
 "metadata": {
  "kernelspec": {
   "display_name": "Python 3 (ipykernel)",
   "language": "python",
   "name": "python3"
  },
  "language_info": {
   "codemirror_mode": {
    "name": "ipython",
    "version": 3
   },
   "file_extension": ".py",
   "mimetype": "text/x-python",
   "name": "python",
   "nbconvert_exporter": "python",
   "pygments_lexer": "ipython3",
   "version": "3.9.13"
  }
 },
 "nbformat": 4,
 "nbformat_minor": 5
}
