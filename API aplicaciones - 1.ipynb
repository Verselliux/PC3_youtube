{
 "cells": [
  {
   "cell_type": "markdown",
   "id": "9cad262b",
   "metadata": {},
   "source": [
    "## Visualizacion de las vistas de un canal a lo largo del tiempo"
   ]
  },
  {
   "cell_type": "markdown",
   "id": "36b5b552",
   "metadata": {},
   "source": [
    "<div style=\"display: flex;\">\n",
    "    <div style=\"flex: 1;margin-right: 90px;\">\n",
    "        La visualizacion de las vistas de un canal puede llegar a ser una herramienta fundamental para los desarrolladores de contenido, ya que esta les facilitara ver e identificar tendencias de contenido, evaluar la popularidad de un cierto contenido, ademas de servir como indicador del crecimiento de un canal.\n",
    "     </div>\n",
    "    <div style=\"flex: 1; text-align: right;\">\n",
    "        <img src='https://www.diariocritico.com/fotos/1/comprar_visitas_youtube_473312944.jpg' width=\"600\" height=\"500\" >\n",
    "    </div>\n",
    "</div>"
   ]
  },
  {
   "cell_type": "markdown",
   "id": "b4de060b",
   "metadata": {},
   "source": [
    "### Paquetes utilizados"
   ]
  },
  {
   "cell_type": "code",
   "execution_count": null,
   "id": "736def6c",
   "metadata": {},
   "outputs": [],
   "source": [
    "| **Paquetes**                 | **Usos**                                                |\n",
    "|:-------------------------------:|:------------------------------------------------------:|\n",
    "|        **googleapiclient.discovery**       | Construye la instancia del cliente de la API de Youtube |\n",
    "|        **Polars**                          | Ayudara al analisis de datos |\n",
    "|        **Polars**                          | Ayudara al analisis de datos |"
   ]
  }
 ],
 "metadata": {
  "kernelspec": {
   "display_name": "Python 3 (ipykernel)",
   "language": "python",
   "name": "python3"
  },
  "language_info": {
   "codemirror_mode": {
    "name": "ipython",
    "version": 3
   },
   "file_extension": ".py",
   "mimetype": "text/x-python",
   "name": "python",
   "nbconvert_exporter": "python",
   "pygments_lexer": "ipython3",
   "version": "3.9.13"
  }
 },
 "nbformat": 4,
 "nbformat_minor": 5
}
